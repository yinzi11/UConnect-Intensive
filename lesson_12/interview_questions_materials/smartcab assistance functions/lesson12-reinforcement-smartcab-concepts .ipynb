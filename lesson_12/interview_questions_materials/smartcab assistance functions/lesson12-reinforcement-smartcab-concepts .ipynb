{
 "cells": [
  {
   "cell_type": "markdown",
   "metadata": {},
   "source": [
    "## Importing libraries "
   ]
  },
  {
   "cell_type": "code",
   "execution_count": 14,
   "metadata": {
    "collapsed": true
   },
   "outputs": [],
   "source": [
    "import random"
   ]
  },
  {
   "cell_type": "markdown",
   "metadata": {},
   "source": [
    "## Building a decay function \n",
    "\n",
    "Decay function used: epsilon = alpha to the power of the number of trials:  epsilon = alpha ** trial_number\n",
    "    \n"
   ]
  },
  {
   "cell_type": "code",
   "execution_count": 15,
   "metadata": {
    "collapsed": false,
    "scrolled": true
   },
   "outputs": [
    {
     "name": "stdout",
     "output_type": "stream",
     "text": [
      "Trial:  1 Epsilon:  1.0\n",
      "Trial:  2 Epsilon:  0.5\n",
      "Trial:  3 Epsilon:  0.25\n",
      "Trial:  4 Epsilon:  0.125\n",
      "Trial:  5 Epsilon:  0.0625\n",
      "Trial:  6 Epsilon:  0.03125\n",
      "Trial:  7 Epsilon:  0.015625\n",
      "Trial:  8 Epsilon:  0.0078125\n"
     ]
    }
   ],
   "source": [
    "trial_number = 0 \n",
    "alpha = .5 \n",
    "epsilon = 1\n",
    "testing_tolerance = .01\n",
    "\n",
    "while epsilon > testing_tolerance:\n",
    "    \n",
    "    epsilon = alpha ** trial_number\n",
    "    \n",
    "    trial_number += 1\n",
    "    \n",
    "    print \"Trial: \", trial_number,\"Epsilon: \", epsilon\n",
    "\n"
   ]
  },
  {
   "cell_type": "markdown",
   "metadata": {},
   "source": [
    "## Generating a random number "
   ]
  },
  {
   "cell_type": "code",
   "execution_count": 38,
   "metadata": {
    "collapsed": false,
    "scrolled": false
   },
   "outputs": [
    {
     "name": "stdout",
     "output_type": "stream",
     "text": [
      "0.355570963964\n"
     ]
    }
   ],
   "source": [
    "r = random.random()\n",
    "\n",
    "print r"
   ]
  },
  {
   "cell_type": "markdown",
   "metadata": {},
   "source": [
    "## State space for a computer "
   ]
  },
  {
   "cell_type": "markdown",
   "metadata": {},
   "source": [
    "Feaures and states: \n",
    "\n",
    "- power: on, off, sleep = 3 \n",
    "- internet: slow, fast = 2 \n",
    "- data: downloading, uploading, idle, streaming = 4 \n",
    "\n",
    "State Space = 3 * 2 * 4 = 24 \n",
    "\n",
    "\n"
   ]
  },
  {
   "cell_type": "markdown",
   "metadata": {},
   "source": [
    "## Selecting a random item from a list "
   ]
  },
  {
   "cell_type": "code",
   "execution_count": 10,
   "metadata": {
    "collapsed": false
   },
   "outputs": [
    {
     "name": "stdout",
     "output_type": "stream",
     "text": [
      "udacity\n"
     ]
    }
   ],
   "source": [
    "\n",
    "computer_actions = [None, 'udacity', 'social_media', 'work']\n",
    "\n",
    "action = random.choice(computer_actions)\n",
    "\n",
    "print action\n",
    "\n"
   ]
  }
 ],
 "metadata": {
  "kernelspec": {
   "display_name": "Python 2",
   "language": "python",
   "name": "python2"
  },
  "language_info": {
   "codemirror_mode": {
    "name": "ipython",
    "version": 2
   },
   "file_extension": ".py",
   "mimetype": "text/x-python",
   "name": "python",
   "nbconvert_exporter": "python",
   "pygments_lexer": "ipython2",
   "version": "2.7.13"
  }
 },
 "nbformat": 4,
 "nbformat_minor": 2
}
